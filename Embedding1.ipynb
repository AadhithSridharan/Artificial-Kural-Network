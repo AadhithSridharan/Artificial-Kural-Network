{
 "cells": [
  {
   "cell_type": "code",
   "execution_count": 2,
   "metadata": {},
   "outputs": [],
   "source": [
    "import numpy as np\n",
    "import pandas as pd"
   ]
  },
  {
   "cell_type": "code",
   "execution_count": 3,
   "metadata": {},
   "outputs": [
    {
     "data": {
      "text/plain": [
       "device(type='cuda')"
      ]
     },
     "execution_count": 3,
     "metadata": {},
     "output_type": "execute_result"
    }
   ],
   "source": [
    "import torch\n",
    "device = torch.device(\"cuda\" if torch.cuda.is_available() else \"cpu\")\n",
    "device"
   ]
  },
  {
   "cell_type": "code",
   "execution_count": 4,
   "metadata": {},
   "outputs": [
    {
     "data": {
      "text/html": [
       "<div>\n",
       "<style scoped>\n",
       "    .dataframe tbody tr th:only-of-type {\n",
       "        vertical-align: middle;\n",
       "    }\n",
       "\n",
       "    .dataframe tbody tr th {\n",
       "        vertical-align: top;\n",
       "    }\n",
       "\n",
       "    .dataframe thead th {\n",
       "        text-align: right;\n",
       "    }\n",
       "</style>\n",
       "<table border=\"1\" class=\"dataframe\">\n",
       "  <thead>\n",
       "    <tr style=\"text-align: right;\">\n",
       "      <th></th>\n",
       "      <th>Chapter Name</th>\n",
       "      <th>Section Name</th>\n",
       "      <th>Verse</th>\n",
       "      <th>Translation</th>\n",
       "      <th>Explanation</th>\n",
       "    </tr>\n",
       "  </thead>\n",
       "  <tbody>\n",
       "    <tr>\n",
       "      <th>0</th>\n",
       "      <td>அறத்துப்பால்</td>\n",
       "      <td>கடவுள் வாழ்த்து</td>\n",
       "      <td>அகர\\tமுதல\\tஎழுத்தெல்லாம்\\tஆதி\\t\\t\\tபகவன்\\tமுதற...</td>\n",
       "      <td>Translation :A, as its first of letters, every...</td>\n",
       "      <td>Explanation :As all letters have the letter A ...</td>\n",
       "    </tr>\n",
       "    <tr>\n",
       "      <th>1</th>\n",
       "      <td>அறத்துப்பால்</td>\n",
       "      <td>கடவுள் வாழ்த்து</td>\n",
       "      <td>கற்றதனால்\\tஆய\\tபயனென்கொல்\\tவாலறிவன்\\t\\t\\tநற்றா...</td>\n",
       "      <td>Translation :No fruit have men of all their st...</td>\n",
       "      <td>Explanation :What Profit have those derived fr...</td>\n",
       "    </tr>\n",
       "    <tr>\n",
       "      <th>2</th>\n",
       "      <td>அறத்துப்பால்</td>\n",
       "      <td>கடவுள் வாழ்த்து</td>\n",
       "      <td>மலர்மிசை\\tஏகினான்\\tமாணடி\\tசேர்ந்தார்\\t\\t\\tநிலம...</td>\n",
       "      <td>Translation :His feet, 'Who o'er the full-blow...</td>\n",
       "      <td>Explanation :They who are united to the glorio...</td>\n",
       "    </tr>\n",
       "    <tr>\n",
       "      <th>3</th>\n",
       "      <td>அறத்துப்பால்</td>\n",
       "      <td>கடவுள் வாழ்த்து</td>\n",
       "      <td>வேண்டுதல்\\tவேண்டாமை\\tஇலானடி\\tசேர்ந்தார்க்கு\\t\\...</td>\n",
       "      <td>Translation :His foot, 'Whom want affects not,...</td>\n",
       "      <td>Explanation :To those who meditate the feet of...</td>\n",
       "    </tr>\n",
       "    <tr>\n",
       "      <th>4</th>\n",
       "      <td>அறத்துப்பால்</td>\n",
       "      <td>கடவுள் வாழ்த்து</td>\n",
       "      <td>இருள்சேர்\\tஇருவினையும்\\tசேரா\\tஇறைவன்\\t\\t\\tபொரு...</td>\n",
       "      <td>Translation :The men, who on the 'King's' true...</td>\n",
       "      <td>Explanation :The two-fold deeds that spring fr...</td>\n",
       "    </tr>\n",
       "    <tr>\n",
       "      <th>...</th>\n",
       "      <td>...</td>\n",
       "      <td>...</td>\n",
       "      <td>...</td>\n",
       "      <td>...</td>\n",
       "      <td>...</td>\n",
       "    </tr>\n",
       "    <tr>\n",
       "      <th>1325</th>\n",
       "      <td>காமத்துப்பால்</td>\n",
       "      <td>ஊடலுவகை</td>\n",
       "      <td>உணலினும்\\tஉண்டது\\tஅறல்இனிது\\tகாமம்\\t\\t\\tபுணர்த...</td>\n",
       "      <td>Translation :'Tis sweeter to digest your food ...</td>\n",
       "      <td>Explanation :To digest what has been eaten is ...</td>\n",
       "    </tr>\n",
       "    <tr>\n",
       "      <th>1326</th>\n",
       "      <td>காமத்துப்பால்</td>\n",
       "      <td>ஊடலுவகை</td>\n",
       "      <td>ஊடலில்\\tதோற்றவர்\\tவென்றார்\\tஅதுமன்னும்\\t\\t\\tகூ...</td>\n",
       "      <td>Translation :In lovers' quarrels, 'tis the one...</td>\n",
       "      <td>Explanation :Those are conquerors whose dislik...</td>\n",
       "    </tr>\n",
       "    <tr>\n",
       "      <th>1327</th>\n",
       "      <td>காமத்துப்பால்</td>\n",
       "      <td>ஊடலுவகை</td>\n",
       "      <td>ஊடிப்\\tபெறுகுவம்\\tகொல்லோ\\tநுதல்வெயர்ப்பக்\\t\\t\\...</td>\n",
       "      <td>Translation :And shall we ever more the sweetn...</td>\n",
       "      <td>Explanation :Will I enjoy once more through he...</td>\n",
       "    </tr>\n",
       "    <tr>\n",
       "      <th>1328</th>\n",
       "      <td>காமத்துப்பால்</td>\n",
       "      <td>ஊடலுவகை</td>\n",
       "      <td>ஊடுக\\tமன்னோ\\tஒளியிழை\\tயாமிரப்ப\\t\\t\\tநீடுக\\tமன்...</td>\n",
       "      <td>Translation :Let her, whose jewels brightly sh...</td>\n",
       "      <td>Explanation :May the bright-jewelled one feign...</td>\n",
       "    </tr>\n",
       "    <tr>\n",
       "      <th>1329</th>\n",
       "      <td>காமத்துப்பால்</td>\n",
       "      <td>ஊடலுவகை</td>\n",
       "      <td>ஊடுதல்\\tகாமத்திற்கு\\tஇன்பம்\\tஅதற்கின்பம்\\t\\t\\t...</td>\n",
       "      <td>Translation :A 'feigned aversion' coy to pleas...</td>\n",
       "      <td>Explanation :Dislike adds delight to love; and...</td>\n",
       "    </tr>\n",
       "  </tbody>\n",
       "</table>\n",
       "<p>1330 rows × 5 columns</p>\n",
       "</div>"
      ],
      "text/plain": [
       "        Chapter Name       Section Name  \\\n",
       "0      அறத்துப்பால்    கடவுள் வாழ்த்து    \n",
       "1      அறத்துப்பால்    கடவுள் வாழ்த்து    \n",
       "2      அறத்துப்பால்    கடவுள் வாழ்த்து    \n",
       "3      அறத்துப்பால்    கடவுள் வாழ்த்து    \n",
       "4      அறத்துப்பால்    கடவுள் வாழ்த்து    \n",
       "...              ...                ...   \n",
       "1325  காமத்துப்பால்            ஊடலுவகை    \n",
       "1326  காமத்துப்பால்            ஊடலுவகை    \n",
       "1327  காமத்துப்பால்            ஊடலுவகை    \n",
       "1328  காமத்துப்பால்            ஊடலுவகை    \n",
       "1329  காமத்துப்பால்            ஊடலுவகை    \n",
       "\n",
       "                                                  Verse  \\\n",
       "0     அகர\\tமுதல\\tஎழுத்தெல்லாம்\\tஆதி\\t\\t\\tபகவன்\\tமுதற...   \n",
       "1     கற்றதனால்\\tஆய\\tபயனென்கொல்\\tவாலறிவன்\\t\\t\\tநற்றா...   \n",
       "2     மலர்மிசை\\tஏகினான்\\tமாணடி\\tசேர்ந்தார்\\t\\t\\tநிலம...   \n",
       "3     வேண்டுதல்\\tவேண்டாமை\\tஇலானடி\\tசேர்ந்தார்க்கு\\t\\...   \n",
       "4     இருள்சேர்\\tஇருவினையும்\\tசேரா\\tஇறைவன்\\t\\t\\tபொரு...   \n",
       "...                                                 ...   \n",
       "1325  உணலினும்\\tஉண்டது\\tஅறல்இனிது\\tகாமம்\\t\\t\\tபுணர்த...   \n",
       "1326  ஊடலில்\\tதோற்றவர்\\tவென்றார்\\tஅதுமன்னும்\\t\\t\\tகூ...   \n",
       "1327  ஊடிப்\\tபெறுகுவம்\\tகொல்லோ\\tநுதல்வெயர்ப்பக்\\t\\t\\...   \n",
       "1328  ஊடுக\\tமன்னோ\\tஒளியிழை\\tயாமிரப்ப\\t\\t\\tநீடுக\\tமன்...   \n",
       "1329  ஊடுதல்\\tகாமத்திற்கு\\tஇன்பம்\\tஅதற்கின்பம்\\t\\t\\t...   \n",
       "\n",
       "                                            Translation  \\\n",
       "0     Translation :A, as its first of letters, every...   \n",
       "1     Translation :No fruit have men of all their st...   \n",
       "2     Translation :His feet, 'Who o'er the full-blow...   \n",
       "3     Translation :His foot, 'Whom want affects not,...   \n",
       "4     Translation :The men, who on the 'King's' true...   \n",
       "...                                                 ...   \n",
       "1325  Translation :'Tis sweeter to digest your food ...   \n",
       "1326  Translation :In lovers' quarrels, 'tis the one...   \n",
       "1327  Translation :And shall we ever more the sweetn...   \n",
       "1328  Translation :Let her, whose jewels brightly sh...   \n",
       "1329  Translation :A 'feigned aversion' coy to pleas...   \n",
       "\n",
       "                                            Explanation  \n",
       "0     Explanation :As all letters have the letter A ...  \n",
       "1     Explanation :What Profit have those derived fr...  \n",
       "2     Explanation :They who are united to the glorio...  \n",
       "3     Explanation :To those who meditate the feet of...  \n",
       "4     Explanation :The two-fold deeds that spring fr...  \n",
       "...                                                 ...  \n",
       "1325  Explanation :To digest what has been eaten is ...  \n",
       "1326  Explanation :Those are conquerors whose dislik...  \n",
       "1327  Explanation :Will I enjoy once more through he...  \n",
       "1328  Explanation :May the bright-jewelled one feign...  \n",
       "1329  Explanation :Dislike adds delight to love; and...  \n",
       "\n",
       "[1330 rows x 5 columns]"
      ]
     },
     "execution_count": 4,
     "metadata": {},
     "output_type": "execute_result"
    }
   ],
   "source": [
    "df = pd.read_csv(\"Thirukural With Explanation.csv\")\n",
    "df"
   ]
  },
  {
   "cell_type": "markdown",
   "metadata": {},
   "source": [
    "# Data Cleaning:"
   ]
  },
  {
   "cell_type": "markdown",
   "metadata": {},
   "source": [
    "Replace Tabs with Spacebar in colum 'Verse'"
   ]
  },
  {
   "cell_type": "code",
   "execution_count": 5,
   "metadata": {},
   "outputs": [
    {
     "data": {
      "text/html": [
       "<div>\n",
       "<style scoped>\n",
       "    .dataframe tbody tr th:only-of-type {\n",
       "        vertical-align: middle;\n",
       "    }\n",
       "\n",
       "    .dataframe tbody tr th {\n",
       "        vertical-align: top;\n",
       "    }\n",
       "\n",
       "    .dataframe thead th {\n",
       "        text-align: right;\n",
       "    }\n",
       "</style>\n",
       "<table border=\"1\" class=\"dataframe\">\n",
       "  <thead>\n",
       "    <tr style=\"text-align: right;\">\n",
       "      <th></th>\n",
       "      <th>Chapter Name</th>\n",
       "      <th>Section Name</th>\n",
       "      <th>Verse</th>\n",
       "      <th>Translation</th>\n",
       "      <th>Explanation</th>\n",
       "    </tr>\n",
       "  </thead>\n",
       "  <tbody>\n",
       "    <tr>\n",
       "      <th>0</th>\n",
       "      <td>அறத்துப்பால்</td>\n",
       "      <td>கடவுள் வாழ்த்து</td>\n",
       "      <td>அகர முதல எழுத்தெல்லாம் ஆதி   பகவன் முதற்றே உலகு.</td>\n",
       "      <td>Translation :A, as its first of letters, every...</td>\n",
       "      <td>Explanation :As all letters have the letter A ...</td>\n",
       "    </tr>\n",
       "    <tr>\n",
       "      <th>1</th>\n",
       "      <td>அறத்துப்பால்</td>\n",
       "      <td>கடவுள் வாழ்த்து</td>\n",
       "      <td>கற்றதனால் ஆய பயனென்கொல் வாலறிவன்   நற்றாள் தொழ...</td>\n",
       "      <td>Translation :No fruit have men of all their st...</td>\n",
       "      <td>Explanation :What Profit have those derived fr...</td>\n",
       "    </tr>\n",
       "    <tr>\n",
       "      <th>2</th>\n",
       "      <td>அறத்துப்பால்</td>\n",
       "      <td>கடவுள் வாழ்த்து</td>\n",
       "      <td>மலர்மிசை ஏகினான் மாணடி சேர்ந்தார்   நிலமிசை நீ...</td>\n",
       "      <td>Translation :His feet, 'Who o'er the full-blow...</td>\n",
       "      <td>Explanation :They who are united to the glorio...</td>\n",
       "    </tr>\n",
       "    <tr>\n",
       "      <th>3</th>\n",
       "      <td>அறத்துப்பால்</td>\n",
       "      <td>கடவுள் வாழ்த்து</td>\n",
       "      <td>வேண்டுதல் வேண்டாமை இலானடி சேர்ந்தார்க்கு   யாண...</td>\n",
       "      <td>Translation :His foot, 'Whom want affects not,...</td>\n",
       "      <td>Explanation :To those who meditate the feet of...</td>\n",
       "    </tr>\n",
       "    <tr>\n",
       "      <th>4</th>\n",
       "      <td>அறத்துப்பால்</td>\n",
       "      <td>கடவுள் வாழ்த்து</td>\n",
       "      <td>இருள்சேர் இருவினையும் சேரா இறைவன்   பொருள்சேர்...</td>\n",
       "      <td>Translation :The men, who on the 'King's' true...</td>\n",
       "      <td>Explanation :The two-fold deeds that spring fr...</td>\n",
       "    </tr>\n",
       "  </tbody>\n",
       "</table>\n",
       "</div>"
      ],
      "text/plain": [
       "    Chapter Name       Section Name  \\\n",
       "0  அறத்துப்பால்    கடவுள் வாழ்த்து    \n",
       "1  அறத்துப்பால்    கடவுள் வாழ்த்து    \n",
       "2  அறத்துப்பால்    கடவுள் வாழ்த்து    \n",
       "3  அறத்துப்பால்    கடவுள் வாழ்த்து    \n",
       "4  அறத்துப்பால்    கடவுள் வாழ்த்து    \n",
       "\n",
       "                                               Verse  \\\n",
       "0  அகர முதல எழுத்தெல்லாம் ஆதி   பகவன் முதற்றே உலகு.    \n",
       "1  கற்றதனால் ஆய பயனென்கொல் வாலறிவன்   நற்றாள் தொழ...   \n",
       "2  மலர்மிசை ஏகினான் மாணடி சேர்ந்தார்   நிலமிசை நீ...   \n",
       "3  வேண்டுதல் வேண்டாமை இலானடி சேர்ந்தார்க்கு   யாண...   \n",
       "4  இருள்சேர் இருவினையும் சேரா இறைவன்   பொருள்சேர்...   \n",
       "\n",
       "                                         Translation  \\\n",
       "0  Translation :A, as its first of letters, every...   \n",
       "1  Translation :No fruit have men of all their st...   \n",
       "2  Translation :His feet, 'Who o'er the full-blow...   \n",
       "3  Translation :His foot, 'Whom want affects not,...   \n",
       "4  Translation :The men, who on the 'King's' true...   \n",
       "\n",
       "                                         Explanation  \n",
       "0  Explanation :As all letters have the letter A ...  \n",
       "1  Explanation :What Profit have those derived fr...  \n",
       "2  Explanation :They who are united to the glorio...  \n",
       "3  Explanation :To those who meditate the feet of...  \n",
       "4  Explanation :The two-fold deeds that spring fr...  "
      ]
     },
     "execution_count": 5,
     "metadata": {},
     "output_type": "execute_result"
    }
   ],
   "source": [
    "df['Verse'] = df['Verse'].str.replace('\\t', ' ', regex=False)\n",
    "df.head()"
   ]
  },
  {
   "cell_type": "markdown",
   "metadata": {},
   "source": [
    "Remove the words 'Translation' and 'Explanation' from every row of the columns 'Translation' and 'Explanation'"
   ]
  },
  {
   "cell_type": "code",
   "execution_count": 6,
   "metadata": {},
   "outputs": [
    {
     "data": {
      "text/html": [
       "<div>\n",
       "<style scoped>\n",
       "    .dataframe tbody tr th:only-of-type {\n",
       "        vertical-align: middle;\n",
       "    }\n",
       "\n",
       "    .dataframe tbody tr th {\n",
       "        vertical-align: top;\n",
       "    }\n",
       "\n",
       "    .dataframe thead th {\n",
       "        text-align: right;\n",
       "    }\n",
       "</style>\n",
       "<table border=\"1\" class=\"dataframe\">\n",
       "  <thead>\n",
       "    <tr style=\"text-align: right;\">\n",
       "      <th></th>\n",
       "      <th>Chapter Name</th>\n",
       "      <th>Section Name</th>\n",
       "      <th>Verse</th>\n",
       "      <th>Translation</th>\n",
       "      <th>Explanation</th>\n",
       "    </tr>\n",
       "  </thead>\n",
       "  <tbody>\n",
       "    <tr>\n",
       "      <th>0</th>\n",
       "      <td>அறத்துப்பால்</td>\n",
       "      <td>கடவுள் வாழ்த்து</td>\n",
       "      <td>அகர முதல எழுத்தெல்லாம் ஆதி   பகவன் முதற்றே உலகு.</td>\n",
       "      <td>A, as its first of letters, every speech maint...</td>\n",
       "      <td>As all letters have the letter A for their fir...</td>\n",
       "    </tr>\n",
       "    <tr>\n",
       "      <th>1</th>\n",
       "      <td>அறத்துப்பால்</td>\n",
       "      <td>கடவுள் வாழ்த்து</td>\n",
       "      <td>கற்றதனால் ஆய பயனென்கொல் வாலறிவன்   நற்றாள் தொழ...</td>\n",
       "      <td>No fruit have men of all their studied lore, S...</td>\n",
       "      <td>What Profit have those derived from learning, ...</td>\n",
       "    </tr>\n",
       "    <tr>\n",
       "      <th>2</th>\n",
       "      <td>அறத்துப்பால்</td>\n",
       "      <td>கடவுள் வாழ்த்து</td>\n",
       "      <td>மலர்மிசை ஏகினான் மாணடி சேர்ந்தார்   நிலமிசை நீ...</td>\n",
       "      <td>His feet, 'Who o'er the full-blown flower hath...</td>\n",
       "      <td>They who are united to the glorious feet of Hi...</td>\n",
       "    </tr>\n",
       "    <tr>\n",
       "      <th>3</th>\n",
       "      <td>அறத்துப்பால்</td>\n",
       "      <td>கடவுள் வாழ்த்து</td>\n",
       "      <td>வேண்டுதல் வேண்டாமை இலானடி சேர்ந்தார்க்கு   யாண...</td>\n",
       "      <td>His foot, 'Whom want affects not, irks not gri...</td>\n",
       "      <td>To those who meditate the feet of Him who is v...</td>\n",
       "    </tr>\n",
       "    <tr>\n",
       "      <th>4</th>\n",
       "      <td>அறத்துப்பால்</td>\n",
       "      <td>கடவுள் வாழ்த்து</td>\n",
       "      <td>இருள்சேர் இருவினையும் சேரா இறைவன்   பொருள்சேர்...</td>\n",
       "      <td>The men, who on the 'King's' true praised deli...</td>\n",
       "      <td>The two-fold deeds that spring from darkness s...</td>\n",
       "    </tr>\n",
       "  </tbody>\n",
       "</table>\n",
       "</div>"
      ],
      "text/plain": [
       "    Chapter Name       Section Name  \\\n",
       "0  அறத்துப்பால்    கடவுள் வாழ்த்து    \n",
       "1  அறத்துப்பால்    கடவுள் வாழ்த்து    \n",
       "2  அறத்துப்பால்    கடவுள் வாழ்த்து    \n",
       "3  அறத்துப்பால்    கடவுள் வாழ்த்து    \n",
       "4  அறத்துப்பால்    கடவுள் வாழ்த்து    \n",
       "\n",
       "                                               Verse  \\\n",
       "0  அகர முதல எழுத்தெல்லாம் ஆதி   பகவன் முதற்றே உலகு.    \n",
       "1  கற்றதனால் ஆய பயனென்கொல் வாலறிவன்   நற்றாள் தொழ...   \n",
       "2  மலர்மிசை ஏகினான் மாணடி சேர்ந்தார்   நிலமிசை நீ...   \n",
       "3  வேண்டுதல் வேண்டாமை இலானடி சேர்ந்தார்க்கு   யாண...   \n",
       "4  இருள்சேர் இருவினையும் சேரா இறைவன்   பொருள்சேர்...   \n",
       "\n",
       "                                         Translation  \\\n",
       "0  A, as its first of letters, every speech maint...   \n",
       "1  No fruit have men of all their studied lore, S...   \n",
       "2  His feet, 'Who o'er the full-blown flower hath...   \n",
       "3  His foot, 'Whom want affects not, irks not gri...   \n",
       "4  The men, who on the 'King's' true praised deli...   \n",
       "\n",
       "                                         Explanation  \n",
       "0  As all letters have the letter A for their fir...  \n",
       "1  What Profit have those derived from learning, ...  \n",
       "2  They who are united to the glorious feet of Hi...  \n",
       "3  To those who meditate the feet of Him who is v...  \n",
       "4  The two-fold deeds that spring from darkness s...  "
      ]
     },
     "execution_count": 6,
     "metadata": {},
     "output_type": "execute_result"
    }
   ],
   "source": [
    "df['Translation'] = df['Translation'].str.replace('Translation :', '', regex=False)\n",
    "df['Explanation'] = df['Explanation'].str.replace('Explanation :', '', regex=False)\n",
    "df.head()"
   ]
  },
  {
   "cell_type": "code",
   "execution_count": 7,
   "metadata": {},
   "outputs": [],
   "source": [
    "df.to_csv('cleaned_explanations.csv')"
   ]
  },
  {
   "cell_type": "markdown",
   "metadata": {},
   "source": [
    "#  Vector Kural Database Creation:"
   ]
  },
  {
   "cell_type": "markdown",
   "metadata": {},
   "source": [
    "## E5 Embedding:"
   ]
  },
  {
   "cell_type": "code",
   "execution_count": 16,
   "metadata": {},
   "outputs": [],
   "source": [
    "from sentence_transformers import SentenceTransformer\n",
    "model = SentenceTransformer(\"intfloat/e5-base\")"
   ]
  },
  {
   "cell_type": "code",
   "execution_count": 17,
   "metadata": {},
   "outputs": [],
   "source": [
    "def get_vector(text):\n",
    "    vector = model.encode(text, convert_to_tensor=True)\n",
    "    return vector.cpu().numpy()"
   ]
  },
  {
   "cell_type": "code",
   "execution_count": 18,
   "metadata": {},
   "outputs": [],
   "source": [
    "sentence = 'What does Thirukural say about Education'\n",
    "embedding = get_vector(sentence)"
   ]
  },
  {
   "cell_type": "code",
   "execution_count": 19,
   "metadata": {},
   "outputs": [
    {
     "data": {
      "text/plain": [
       "768"
      ]
     },
     "execution_count": 19,
     "metadata": {},
     "output_type": "execute_result"
    }
   ],
   "source": [
    "len(embedding)"
   ]
  },
  {
   "cell_type": "code",
   "execution_count": 20,
   "metadata": {},
   "outputs": [],
   "source": [
    "vectors = {}\n",
    "for idx, explanation in enumerate(df['Explanation']):\n",
    "    vector = model.encode(explanation)\n",
    "    vectors[idx] = vector.tolist()"
   ]
  },
  {
   "cell_type": "code",
   "execution_count": 21,
   "metadata": {},
   "outputs": [
    {
     "data": {
      "text/plain": [
       "(1330, 768)"
      ]
     },
     "execution_count": 21,
     "metadata": {},
     "output_type": "execute_result"
    }
   ],
   "source": [
    "len(vectors), len(vectors[0])"
   ]
  },
  {
   "cell_type": "markdown",
   "metadata": {},
   "source": [
    "## Vector Database:"
   ]
  },
  {
   "cell_type": "code",
   "execution_count": 22,
   "metadata": {},
   "outputs": [],
   "source": [
    "import json"
   ]
  },
  {
   "cell_type": "code",
   "execution_count": 23,
   "metadata": {},
   "outputs": [],
   "source": [
    "with open('e5_explanation_vectors.json', 'w') as f:\n",
    "    json.dump(vectors, f)"
   ]
  }
 ],
 "metadata": {
  "kernelspec": {
   "display_name": "Python 3",
   "language": "python",
   "name": "python3"
  },
  "language_info": {
   "codemirror_mode": {
    "name": "ipython",
    "version": 3
   },
   "file_extension": ".py",
   "mimetype": "text/x-python",
   "name": "python",
   "nbconvert_exporter": "python",
   "pygments_lexer": "ipython3",
   "version": "3.11.3"
  }
 },
 "nbformat": 4,
 "nbformat_minor": 2
}
